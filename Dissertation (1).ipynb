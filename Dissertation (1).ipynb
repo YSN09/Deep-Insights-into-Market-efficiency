{
  "cells": [
    {
      "cell_type": "code",
      "execution_count": null,
      "metadata": {
        "id": "7Z3zN251Enjm"
      },
      "outputs": [],
      "source": [
        "import tensorflow as tf\n",
        "import pandas as pd\n",
        "from sklearn.model_selection import train_test_split\n",
        "from sklearn.preprocessing import MinMaxScaler, OneHotEncoder\n",
        "from sklearn.compose import make_column_transformer"
      ]
    },
    {
      "cell_type": "code",
      "execution_count": null,
      "metadata": {
        "colab": {
          "base_uri": "https://localhost:8080/"
        },
        "id": "EUXHEOVGE2ER",
        "outputId": "7afa9243-f24b-4f44-fae9-cdaad4c647d8"
      },
      "outputs": [
        {
          "output_type": "execute_result",
          "data": {
            "text/plain": [
              "Index(['Week', 'open_price', 'close_price', 'past_closing', 'Positive',\n",
              "       'Negative', 'Neutral', 'hist_f', 'sent_f', 'Unnamed: 9', 'Unnamed: 10',\n",
              "       'Unnamed: 11'],\n",
              "      dtype='object')"
            ]
          },
          "metadata": {},
          "execution_count": 3
        }
      ],
      "source": [
        "test = pd.read_csv(\"/content/sentiment_aggregated_nifty.csv\")\n",
        "test.keys()"
      ]
    },
    {
      "cell_type": "code",
      "execution_count": null,
      "metadata": {
        "id": "pg-5g1jnZfOh"
      },
      "outputs": [],
      "source": [
        "for index, row in test.iterrows():\n",
        "    if row[\"Positive\"] > row[\"Neutral\"] and row[\"Positive\"] > row[\"Negative\"]:\n",
        "        test.at[index, \"sentiment\"] = 1\n",
        "    elif row[\"Negative\"] > row[\"Neutral\"] and row[\"Negative\"] > row[\"Positive\"]:\n",
        "        test.at[index, \"sentiment\"] = -1\n",
        "    elif row[\"Negative\"] < row[\"Neutral\"] and row[\"Neutral\"] > row[\"Positive\"]:\n",
        "        test.at[index, \"sentiment\"] = 0\n",
        "    elif row[\"Negative\"] == row[\"Neutral\"] and row[\"Neutral\"] == row[\"Positive\"]:\n",
        "        test.at[index, \"sentiment\"] = 0"
      ]
    },
    {
      "cell_type": "code",
      "execution_count": null,
      "metadata": {
        "id": "PWmkOm0JFKKM"
      },
      "outputs": [],
      "source": [
        "## Without Sentiment\n",
        "ct = make_column_transformer(\n",
        "    (MinMaxScaler(), ['open_price']),\n",
        "    )"
      ]
    },
    {
      "cell_type": "markdown",
      "source": [
        "# Historical Prices"
      ],
      "metadata": {
        "id": "4yOz7C7Wju-R"
      }
    },
    {
      "cell_type": "code",
      "source": [
        "tf.random.set_seed(42)\n",
        "\n",
        "callback =  tf.keras.callbacks.ModelCheckpoint(filepath = '/tmp/checkpoint', monitor = \"mae\", save_best_only = True,)\n",
        "\n",
        "model = tf.keras.Sequential([\n",
        "    tf.keras.Input(shape=(1,)),  # Adjust input shape\n",
        "    tf.keras.layers.Dense(100, activation=\"relu\"),\n",
        "    tf.keras.layers.Dense(50, activation=\"relu\"),\n",
        "    tf.keras.layers.Dense(1)\n",
        "])\n",
        "\n",
        "model.compile(\n",
        "    loss=\"mae\",\n",
        "    optimizer=tf.keras.optimizers.Adam(learning_rate=0.001),\n",
        "    metrics=[\"mape\", \"mae\"]\n",
        ")"
      ],
      "metadata": {
        "id": "W9iR0r-mk8ki"
      },
      "execution_count": null,
      "outputs": []
    },
    {
      "cell_type": "markdown",
      "source": [
        "##2018"
      ],
      "metadata": {
        "id": "T60eANv9FUgl"
      }
    },
    {
      "cell_type": "code",
      "source": [
        "#2018\n",
        "test_2018 = test[:52]\n",
        "W_2018 = test_2018[\"open_price\"]\n",
        "z_2018 = test_2018[\"close_price\"]\n",
        "W_2018_train , W_2018_test , z_2018_train , z_2018_test = train_test_split(W_2018, z_2018 , test_size = 0.2 , shuffle = False)"
      ],
      "metadata": {
        "id": "ZDguFgsvkM80"
      },
      "execution_count": null,
      "outputs": []
    },
    {
      "cell_type": "code",
      "source": [
        "model.fit(W_2018_train, z_2018_train, epochs=1000, callbacks=[callback],verbose=0)"
      ],
      "metadata": {
        "colab": {
          "base_uri": "https://localhost:8080/"
        },
        "id": "Peb_4lrMlco7",
        "outputId": "e4dbb032-8172-426f-a9d4-c55f8563f4be"
      },
      "execution_count": null,
      "outputs": [
        {
          "output_type": "execute_result",
          "data": {
            "text/plain": [
              "<keras.src.callbacks.History at 0x7b2761f91630>"
            ]
          },
          "metadata": {},
          "execution_count": 10
        }
      ]
    },
    {
      "cell_type": "code",
      "source": [
        "model.evaluate(W_2018_test, z_2018_test)"
      ],
      "metadata": {
        "id": "M59tkDLDlor-",
        "colab": {
          "base_uri": "https://localhost:8080/"
        },
        "outputId": "4ab9b0ac-3a7b-42e7-dea5-4342d1dd056c"
      },
      "execution_count": null,
      "outputs": [
        {
          "output_type": "stream",
          "name": "stdout",
          "text": [
            "1/1 [==============================] - 0s 193ms/step - loss: 215.8131 - mape: 2.0491 - mae: 215.8131\n"
          ]
        },
        {
          "output_type": "execute_result",
          "data": {
            "text/plain": [
              "[215.81312561035156, 2.0491364002227783, 215.81312561035156]"
            ]
          },
          "metadata": {},
          "execution_count": 11
        }
      ]
    },
    {
      "cell_type": "code",
      "source": [
        "y_pred_2018 = model.predict(W_2018_test)"
      ],
      "metadata": {
        "id": "uGtfJbnRm6Kd",
        "colab": {
          "base_uri": "https://localhost:8080/"
        },
        "outputId": "b37e3f06-70e5-450a-d975-ee2eff62f7e6"
      },
      "execution_count": null,
      "outputs": [
        {
          "output_type": "stream",
          "name": "stdout",
          "text": [
            "1/1 [==============================] - 0s 75ms/step\n"
          ]
        }
      ]
    },
    {
      "cell_type": "code",
      "source": [
        "import matplotlib.pyplot as plt\n",
        "plt.plot(range(len(y_pred_2018)),y_pred_2018, label = \"Predicted\")\n",
        "plt.plot(range(len(z_2018_test)),z_2018_test, label = \"Test\")\n",
        "plt.legend()\n",
        "plt.plot()"
      ],
      "metadata": {
        "id": "5cUSh6ognBY7",
        "colab": {
          "base_uri": "https://localhost:8080/",
          "height": 448
        },
        "outputId": "721fa571-fd4d-4472-bc4e-fe4623a7a5d0"
      },
      "execution_count": null,
      "outputs": [
        {
          "output_type": "execute_result",
          "data": {
            "text/plain": [
              "[]"
            ]
          },
          "metadata": {},
          "execution_count": 12
        },
        {
          "output_type": "display_data",
          "data": {
            "text/plain": [
              "<Figure size 640x480 with 1 Axes>"
            ],
            "image/png": "[encoded data removed]"
          },
          "metadata": {}
        }
      ]
    },
    {
      "cell_type": "markdown",
      "source": [
        "##2019"
      ],
      "metadata": {
        "id": "pYR2IVfzFbWf"
      }
    },
    {
      "cell_type": "code",
      "source": [
        "#2019\n",
        "test_2019 = test[:104]\n",
        "W_2019 = test_2019[\"open_price\"]\n",
        "z_2019 = test_2019[\"close_price\"]\n",
        "W_2019_train , W_2019_test , z_2019_train , z_2019_test = train_test_split(W_2019 ,z_2019 , test_size = 0.2 , shuffle = False)"
      ],
      "metadata": {
        "id": "ilpAl9G0j2Uk"
      },
      "execution_count": null,
      "outputs": []
    },
    {
      "cell_type": "code",
      "source": [
        "model.fit(W_2019_train, z_2019_train, epochs=1000,callbacks=[callback], verbose=0)"
      ],
      "metadata": {
        "colab": {
          "base_uri": "https://localhost:8080/"
        },
        "id": "bxAhUdzWoCMP",
        "outputId": "001426bf-6c48-47fa-ea0a-ee290770052d"
      },
      "execution_count": null,
      "outputs": [
        {
          "output_type": "execute_result",
          "data": {
            "text/plain": [
              "<keras.src.callbacks.History at 0x7c409981db10>"
            ]
          },
          "metadata": {},
          "execution_count": 150
        }
      ]
    },
    {
      "cell_type": "code",
      "source": [
        "model.evaluate(W_2019_test, z_2019_test)"
      ],
      "metadata": {
        "colab": {
          "base_uri": "https://localhost:8080/"
        },
        "id": "G5iXP_FRoIcf",
        "outputId": "2ee5eafe-39ec-4e48-904c-8a3ab5936cbc"
      },
      "execution_count": null,
      "outputs": [
        {
          "output_type": "stream",
          "name": "stdout",
          "text": [
            "1/1 [==============================] - 0s 50ms/step - loss: 54.3141 - mae: 54.3141\n"
          ]
        },
        {
          "output_type": "execute_result",
          "data": {
            "text/plain": [
              "[54.31407928466797, 54.31407928466797]"
            ]
          },
          "metadata": {},
          "execution_count": 151
        }
      ]
    },
    {
      "cell_type": "code",
      "source": [
        "y_pred_2019 = model.predict(W_2019_test)"
      ],
      "metadata": {
        "colab": {
          "base_uri": "https://localhost:8080/"
        },
        "id": "L1cLy_z8oVr-",
        "outputId": "9500cd66-c94b-4987-ca14-08a146a4350c"
      },
      "execution_count": null,
      "outputs": [
        {
          "output_type": "stream",
          "name": "stdout",
          "text": [
            "1/1 [==============================] - 0s 33ms/step\n"
          ]
        }
      ]
    },
    {
      "cell_type": "code",
      "source": [
        "import matplotlib.pyplot as plt\n",
        "plt.plot(range(len(y_pred_2019)),y_pred_2019, label = \"Predicted\")\n",
        "plt.plot(range(len(z_2019_test)),z_2019_test, label = \"Test\")\n",
        "plt.legend()\n",
        "plt.plot()"
      ],
      "metadata": {
        "colab": {
          "base_uri": "https://localhost:8080/",
          "height": 447
        },
        "id": "hPba0poToahJ",
        "outputId": "13d317f7-3d59-43ae-cc0c-2362083a5d41"
      },
      "execution_count": null,
      "outputs": [
        {
          "output_type": "execute_result",
          "data": {
            "text/plain": [
              "[]"
            ]
          },
          "metadata": {},
          "execution_count": 235
        },
        {
          "output_type": "display_data",
          "data": {
            "text/plain": [
              "<Figure size 640x480 with 1 Axes>"
            ],
            "image/png": "[encoded data removed]"
          },
          "metadata": {}
        }
      ]
    },
    {
      "cell_type": "markdown",
      "source": [
        "##2020"
      ],
      "metadata": {
        "id": "_LNI-eTiFfec"
      }
    },
    {
      "cell_type": "code",
      "source": [
        "#2020\n",
        "test_2020 = test[:156]\n",
        "W_2020 = test_2020[\"open_price\"]\n",
        "z_2020 = test_2020[\"close_price\"]\n",
        "W_2020_train , W_2020_test , z_2020_train , z_2020_test = train_test_split(W_2020 ,z_2020 , test_size = 0.2 , shuffle = False)"
      ],
      "metadata": {
        "id": "kfKM1A6Qj3ig"
      },
      "execution_count": null,
      "outputs": []
    },
    {
      "cell_type": "code",
      "source": [
        "model.fit(W_2020_train, z_2020_train, epochs=1000, callbacks=[callback],verbose=0)"
      ],
      "metadata": {
        "colab": {
          "base_uri": "https://localhost:8080/"
        },
        "id": "uVXId59RpKq-",
        "outputId": "ec42c052-bb7c-44b9-e7c1-4c5c883098d6"
      },
      "execution_count": null,
      "outputs": [
        {
          "output_type": "execute_result",
          "data": {
            "text/plain": [
              "<keras.src.callbacks.History at 0x7c409f62e3b0>"
            ]
          },
          "metadata": {},
          "execution_count": 154
        }
      ]
    },
    {
      "cell_type": "code",
      "source": [
        "model.evaluate(W_2020_test, z_2020_test)"
      ],
      "metadata": {
        "colab": {
          "base_uri": "https://localhost:8080/"
        },
        "id": "E8LAzS1ypQgR",
        "outputId": "699646da-8efa-4f47-bae6-f3362110408e"
      },
      "execution_count": null,
      "outputs": [
        {
          "output_type": "stream",
          "name": "stdout",
          "text": [
            "1/1 [==============================] - 0s 24ms/step - loss: 181.4984 - mae: 181.4984\n"
          ]
        },
        {
          "output_type": "execute_result",
          "data": {
            "text/plain": [
              "[181.49844360351562, 181.49844360351562]"
            ]
          },
          "metadata": {},
          "execution_count": 155
        }
      ]
    },
    {
      "cell_type": "code",
      "source": [
        "y_pred_2020 = model.predict(W_2020_test)"
      ],
      "metadata": {
        "colab": {
          "base_uri": "https://localhost:8080/"
        },
        "id": "uz6B1TPcpXJ9",
        "outputId": "3389d077-079d-4c15-f29f-8ba0752ab47e"
      },
      "execution_count": null,
      "outputs": [
        {
          "output_type": "stream",
          "name": "stdout",
          "text": [
            "1/1 [==============================] - 0s 17ms/step\n"
          ]
        }
      ]
    },
    {
      "cell_type": "code",
      "source": [
        "import matplotlib.pyplot as plt\n",
        "plt.plot(range(len(y_pred_2020)),y_pred_2020, label = \"Predicted\")\n",
        "plt.plot(range(len(z_2020_test)),z_2020_test, label = \"Test\")\n",
        "plt.legend()\n",
        "plt.plot()"
      ],
      "metadata": {
        "colab": {
          "base_uri": "https://localhost:8080/",
          "height": 447
        },
        "id": "6ldd4zs_pdQY",
        "outputId": "891f3c83-3f7d-4898-ba15-8a13fd97c2d9"
      },
      "execution_count": null,
      "outputs": [
        {
          "output_type": "execute_result",
          "data": {
            "text/plain": [
              "[]"
            ]
          },
          "metadata": {},
          "execution_count": 233
        },
        {
          "output_type": "display_data",
          "data": {
            "text/plain": [
              "<Figure size 640x480 with 1 Axes>"
            ],
            "image/png": "[encoded data removed]"
          },
          "metadata": {}
        }
      ]
    },
    {
      "cell_type": "markdown",
      "source": [
        "##2021"
      ],
      "metadata": {
        "id": "Fq--Fk9UFhn_"
      }
    },
    {
      "cell_type": "code",
      "source": [
        "#2021\n",
        "test_2021 = test[:208]\n",
        "W_2021 = test_2021[\"open_price\"]\n",
        "z_2021 = test_2021[\"close_price\"]\n",
        "W_2021_train , W_2021_test , z_2021_train , z_2021_test = train_test_split(W_2021 ,z_2021 , test_size = 0.2 , shuffle = False)"
      ],
      "metadata": {
        "id": "lmlMDTOjj416"
      },
      "execution_count": null,
      "outputs": []
    },
    {
      "cell_type": "code",
      "source": [
        "model.fit(W_2021_train, z_2021_train, epochs=1000,callbacks=[callback], verbose=0)"
      ],
      "metadata": {
        "colab": {
          "base_uri": "https://localhost:8080/"
        },
        "id": "xNirupNUp9s2",
        "outputId": "5ac6a88d-326e-4b61-ea3b-1ee5e326c449"
      },
      "execution_count": null,
      "outputs": [
        {
          "output_type": "execute_result",
          "data": {
            "text/plain": [
              "<keras.src.callbacks.History at 0x7c4098afcc40>"
            ]
          },
          "metadata": {},
          "execution_count": 159
        }
      ]
    },
    {
      "cell_type": "code",
      "source": [
        "model.evaluate(W_2021_test, z_2021_test)"
      ],
      "metadata": {
        "colab": {
          "base_uri": "https://localhost:8080/"
        },
        "id": "j9ajgRiMqCTM",
        "outputId": "300dcf72-1be1-4564-94fa-3ef831a69643"
      },
      "execution_count": null,
      "outputs": [
        {
          "output_type": "stream",
          "name": "stdout",
          "text": [
            "2/2 [==============================] - 0s 6ms/step - loss: 255.2456 - mae: 255.2456\n"
          ]
        },
        {
          "output_type": "execute_result",
          "data": {
            "text/plain": [
              "[255.24563598632812, 255.24563598632812]"
            ]
          },
          "metadata": {},
          "execution_count": 160
        }
      ]
    },
    {
      "cell_type": "code",
      "source": [
        "y_pred_2021 = model.predict(W_2021_test)"
      ],
      "metadata": {
        "colab": {
          "base_uri": "https://localhost:8080/"
        },
        "id": "Ajm75moVqHSe",
        "outputId": "77271d8f-9a7d-4fdb-f7e0-51ebd5bf833a"
      },
      "execution_count": null,
      "outputs": [
        {
          "output_type": "stream",
          "name": "stdout",
          "text": [
            "2/2 [==============================] - 0s 4ms/step\n"
          ]
        }
      ]
    },
    {
      "cell_type": "code",
      "source": [
        "import matplotlib.pyplot as plt\n",
        "plt.plot(range(len(y_pred_2021)),y_pred_2021, label = \"Predicted\")\n",
        "plt.plot(range(len(z_2021_test)),z_2021_test, label = \"Test\")\n",
        "plt.legend()\n",
        "plt.plot()"
      ],
      "metadata": {
        "colab": {
          "base_uri": "https://localhost:8080/",
          "height": 447
        },
        "id": "aNm5njc2qN3r",
        "outputId": "ac83f652-52a1-4c60-beb4-98421c98e3b3"
      },
      "execution_count": null,
      "outputs": [
        {
          "output_type": "execute_result",
          "data": {
            "text/plain": [
              "[]"
            ]
          },
          "metadata": {},
          "execution_count": 231
        },
        {
          "output_type": "display_data",
          "data": {
            "text/plain": [
              "<Figure size 640x480 with 1 Axes>"
            ],
            "image/png": "[encoded data removed]"
          },
          "metadata": {}
        }
      ]
    },
    {
      "cell_type": "markdown",
      "source": [
        "## 2022"
      ],
      "metadata": {
        "id": "xzkWmR7GFkP6"
      }
    },
    {
      "cell_type": "code",
      "source": [
        "#2022\n",
        "test_2022 = test[:260]\n",
        "W_2022 = test_2022[\"open_price\"]\n",
        "z_2022 = test_2022[\"close_price\"]\n",
        "W_2022_train , W_2022_test , z_2022_train , z_2022_test = train_test_split(W_2022 ,z_2022 , test_size = 0.2 , shuffle = False)"
      ],
      "metadata": {
        "id": "5llR-h9aj55I"
      },
      "execution_count": null,
      "outputs": []
    },
    {
      "cell_type": "code",
      "source": [
        "model.fit(W_2022_train, z_2022_train, epochs=1000,callbacks=[callback], verbose=0)"
      ],
      "metadata": {
        "colab": {
          "base_uri": "https://localhost:8080/"
        },
        "id": "IClVZyRbj7DM",
        "outputId": "b07d46ca-34e4-40cc-cb08-f2ff822a869f"
      },
      "execution_count": null,
      "outputs": [
        {
          "output_type": "execute_result",
          "data": {
            "text/plain": [
              "<keras.src.callbacks.History at 0x7c4098bba260>"
            ]
          },
          "metadata": {},
          "execution_count": 164
        }
      ]
    },
    {
      "cell_type": "code",
      "source": [
        "model.evaluate(W_2022_test, z_2022_test)"
      ],
      "metadata": {
        "colab": {
          "base_uri": "https://localhost:8080/"
        },
        "id": "4QwLenwTqzlU",
        "outputId": "44611ef5-3f44-4a4d-80ba-cbaad90f6109"
      },
      "execution_count": null,
      "outputs": [
        {
          "output_type": "stream",
          "name": "stdout",
          "text": [
            "2/2 [==============================] - 0s 7ms/step - loss: 301.8100 - mae: 301.8100\n"
          ]
        },
        {
          "output_type": "execute_result",
          "data": {
            "text/plain": [
              "[301.80999755859375, 301.80999755859375]"
            ]
          },
          "metadata": {},
          "execution_count": 165
        }
      ]
    },
    {
      "cell_type": "code",
      "source": [
        "y_pred_2022 = model.predict(W_2022_test)"
      ],
      "metadata": {
        "colab": {
          "base_uri": "https://localhost:8080/"
        },
        "id": "VPDx_wR1q4Wj",
        "outputId": "ca06e8f4-038e-4658-ee03-9d0c9f1c5556"
      },
      "execution_count": null,
      "outputs": [
        {
          "output_type": "stream",
          "name": "stdout",
          "text": [
            "2/2 [==============================] - 0s 4ms/step\n"
          ]
        }
      ]
    },
    {
      "cell_type": "code",
      "source": [
        "import matplotlib.pyplot as plt\n",
        "plt.plot(range(len(y_pred_2022)),y_pred_2022,label = \"Predicted\")\n",
        "plt.plot(range(len(z_2022_test)),z_2022_test, label = \"Test\")\n",
        "plt.legend()\n",
        "plt.plot()"
      ],
      "metadata": {
        "colab": {
          "base_uri": "https://localhost:8080/",
          "height": 447
        },
        "id": "vNqYJnFpq9Zm",
        "outputId": "7221aa5c-02d4-439c-98f3-31013392fd33"
      },
      "execution_count": null,
      "outputs": [
        {
          "output_type": "execute_result",
          "data": {
            "text/plain": [
              "[]"
            ]
          },
          "metadata": {},
          "execution_count": 232
        },
        {
          "output_type": "display_data",
          "data": {
            "text/plain": [
              "<Figure size 640x480 with 1 Axes>"
            ],
            "image/png": "[encoded data removed]"
          },
          "metadata": {}
        }
      ]
    },
    {
      "cell_type": "markdown",
      "source": [
        "## 2023"
      ],
      "metadata": {
        "id": "XXbSGm02Fmu-"
      }
    },
    {
      "cell_type": "code",
      "execution_count": null,
      "metadata": {
        "id": "_amYDcCGNVSj"
      },
      "outputs": [],
      "source": [
        "# 2023\n",
        "W = test[[\"open_price\"]]\n",
        "z = test[\"close_price\"]"
      ]
    },
    {
      "cell_type": "code",
      "execution_count": null,
      "metadata": {
        "id": "Y82mChmINr96"
      },
      "outputs": [],
      "source": [
        "W_train , W_test , z_train , z_test = train_test_split(W, z , test_size = 0.2 , shuffle = False)"
      ]
    },
    {
      "cell_type": "markdown",
      "source": [],
      "metadata": {
        "id": "CnOFaf8mz2lh"
      }
    },
    {
      "cell_type": "code",
      "execution_count": null,
      "metadata": {
        "colab": {
          "base_uri": "https://localhost:8080/"
        },
        "id": "Q3-L716oN_h5",
        "outputId": "a2e9c9f6-9fb5-4d1f-b6c1-edcec6dc052b"
      },
      "outputs": [
        {
          "output_type": "execute_result",
          "data": {
            "text/plain": [
              "<keras.src.callbacks.History at 0x7d4fabb0a3e0>"
            ]
          },
          "metadata": {},
          "execution_count": 11
        }
      ],
      "source": [
        "model.fit(W_train, z_train, epochs=1000,callbacks=[callback], verbose=0)"
      ]
    },
    {
      "cell_type": "code",
      "execution_count": null,
      "metadata": {
        "colab": {
          "base_uri": "https://localhost:8080/"
        },
        "id": "_oZHKotvOX8w",
        "outputId": "d5f9e0b3-9f08-499d-bc88-f8a0c8aecd06"
      },
      "outputs": [
        {
          "output_type": "stream",
          "name": "stdout",
          "text": [
            "2/2 [==============================] - 0s 8ms/step - loss: 230.7166 - mape: 1.2277 - mae: 230.7166\n"
          ]
        },
        {
          "output_type": "execute_result",
          "data": {
            "text/plain": [
              "[230.71658325195312, 1.2277185916900635, 230.71658325195312]"
            ]
          },
          "metadata": {},
          "execution_count": 9
        }
      ],
      "source": [
        "model.evaluate(W_test, z_test)"
      ]
    },
    {
      "cell_type": "code",
      "execution_count": null,
      "metadata": {
        "colab": {
          "base_uri": "https://localhost:8080/"
        },
        "id": "n0U4_mz4TbJ2",
        "outputId": "29bf8c3e-d051-464e-b3d6-429eb3d8a9de"
      },
      "outputs": [
        {
          "output_type": "stream",
          "name": "stdout",
          "text": [
            "2/2 [==============================] - 0s 5ms/step\n"
          ]
        }
      ],
      "source": [
        "y_pred_2023 = model.predict(W_test)\n",
        "y_pred_2023_ = pd.DataFrame(y_pred_2023)"
      ]
    },
    {
      "cell_type": "code",
      "execution_count": null,
      "metadata": {
        "colab": {
          "base_uri": "https://localhost:8080/",
          "height": 448
        },
        "id": "hp6gB589TiJr",
        "outputId": "b820407b-cfc5-4b77-d950-c9b74f66feac"
      },
      "outputs": [
        {
          "output_type": "execute_result",
          "data": {
            "text/plain": [
              "[]"
            ]
          },
          "metadata": {},
          "execution_count": 54
        },
        {
          "output_type": "display_data",
          "data": {
            "text/plain": [
              "<Figure size 640x480 with 1 Axes>"
            ],
            "image/png": "[encoded data removed]"
          },
          "metadata": {}
        }
      ],
      "source": [
        "import matplotlib.pyplot as plt\n",
        "plt.plot(range(len(z_test)),z_test)\n",
        "plt.plot(range(len(y_pred_2023_)),y_pred_2023_)\n",
        "plt.plot()"
      ]
    },
    {
      "cell_type": "code",
      "source": [
        "from sklearn.metrics import mean_absolute_error\n",
        "mae = mean_absolute_error(z_test, y_pred_2023_)\n",
        "print(mae)"
      ],
      "metadata": {
        "colab": {
          "base_uri": "https://localhost:8080/"
        },
        "id": "p5LBnYDi6oCC",
        "outputId": "9ca9d23b-a31c-4148-aed6-a272ee4b9d74"
      },
      "execution_count": null,
      "outputs": [
        {
          "output_type": "stream",
          "name": "stdout",
          "text": [
            "272.70464409722223\n"
          ]
        }
      ]
    },
    {
      "cell_type": "code",
      "source": [
        "import numpy as np\n",
        "def mean_absolute_percentage_error(y_true, y_pred):\n",
        "    y_true, y_pred = np.array(y_true), np.array(y_pred)\n",
        "    return np.mean(np.abs((y_true - y_pred) / y_true)) * 100"
      ],
      "metadata": {
        "id": "I8YJWgnM88iA"
      },
      "execution_count": null,
      "outputs": []
    },
    {
      "cell_type": "code",
      "source": [
        "mean_absolute_percentage_error(z_test,y_pred_2023_)"
      ],
      "metadata": {
        "colab": {
          "base_uri": "https://localhost:8080/"
        },
        "id": "lkP_4kyC8-uJ",
        "outputId": "cc829968-4745-4a69-bc80-7d3093cc611d"
      },
      "execution_count": null,
      "outputs": [
        {
          "output_type": "execute_result",
          "data": {
            "text/plain": [
              "6.240007976435485"
            ]
          },
          "metadata": {},
          "execution_count": 39
        }
      ]
    },
    {
      "cell_type": "code",
      "source": [
        "from google.colab import drive\n",
        "drive.mount('/content/drive')\n",
        "# Export the DataFrame to an Excel file\n",
        "y_pred_2023_.to_excel('/content/drive/My Drive/weakmape.xlsx', index=False)"
      ],
      "metadata": {
        "colab": {
          "base_uri": "https://localhost:8080/"
        },
        "id": "2GxQ9PsR46cZ",
        "outputId": "e6e688ce-b631-4071-ad25-3a16e5a3d839"
      },
      "execution_count": null,
      "outputs": [
        {
          "output_type": "stream",
          "name": "stdout",
          "text": [
            "Mounted at /content/drive\n"
          ]
        }
      ]
    },
    {
      "cell_type": "markdown",
      "source": [
        "#Sentiment"
      ],
      "metadata": {
        "id": "r-sTjx14jhsZ"
      }
    },
    {
      "cell_type": "markdown",
      "source": [
        "## 2018"
      ],
      "metadata": {
        "id": "NMiW6KufFo8X"
      }
    },
    {
      "cell_type": "code",
      "source": [
        "X_2018 = test_2018[:].drop([\"close_price\", \"Week\",'Positive', 'Negative', 'Neutral'], axis = 1)\n",
        "y_2018 = test_2018[\"close_price\"]"
      ],
      "metadata": {
        "id": "PX_LxkqjxpRs"
      },
      "execution_count": null,
      "outputs": []
    },
    {
      "cell_type": "code",
      "source": [
        "# Creating the training and Testing Data set\n",
        "X_2018_train , X_2018_test, y_2018_train, y_2018_test = train_test_split(X_2018 , y_2018 , test_size = 0.2, shuffle = False)"
      ],
      "metadata": {
        "id": "N-CeBEHBxpPP"
      },
      "execution_count": null,
      "outputs": []
    },
    {
      "cell_type": "code",
      "source": [
        "ct.fit(X_2018_train)\n",
        "\n",
        "# transform the training and test data with normalization and onehotencoder\n",
        "X_train_normal_2018 = ct.transform(X_2018_train)\n",
        "X_test_normal_2018 = ct.transform(X_2018_test)"
      ],
      "metadata": {
        "id": "SWA7BlG5xpMh"
      },
      "execution_count": null,
      "outputs": []
    },
    {
      "cell_type": "code",
      "source": [
        "tf.random.set_seed(42)\n",
        "\n",
        "callback =tf.keras.callbacks.ModelCheckpoint(filepath = '/tmp/checkpoint', monitor = \"mape\", save_best_only = True)\n",
        "\n",
        "model_sent_2018 = tf.keras.Sequential([\n",
        "    tf.keras.Input(shape=(X_train_normal_2018.shape[1],)),  # Adjust input shape\n",
        "    tf.keras.layers.Dense(100, activation=\"relu\"),\n",
        "    tf.keras.layers.Dense(50, activation=\"relu\"),\n",
        "    tf.keras.layers.Dense(10, activation=\"relu\"),\n",
        "    tf.keras.layers.Dense(1)\n",
        "])\n",
        "\n",
        "model_sent_2018.compile(\n",
        "    loss=\"mape\",\n",
        "    optimizer=tf.keras.optimizers.Adam(learning_rate=0.001),\n",
        "    metrics=[\"mape\"]\n",
        ")"
      ],
      "metadata": {
        "id": "tZ-pmaJvxpJ1",
        "colab": {
          "base_uri": "https://localhost:8080/",
          "height": 219
        },
        "outputId": "8ab1f0d7-7654-461e-cc3c-132d0a11bdd3"
      },
      "execution_count": null,
      "outputs": [
        {
          "output_type": "error",
          "ename": "NameError",
          "evalue": "name 'X_train_normal_2018' is not defined",
          "traceback": [
            "\u001b[0;31m---------------------------------------------------------------------------\u001b[0m",
            "\u001b[0;31mNameError\u001b[0m                                 Traceback (most recent call last)",
            "\u001b[0;32m<ipython-input-47-aeff1d6e70f0>\u001b[0m in \u001b[0;36m<cell line: 5>\u001b[0;34m()\u001b[0m\n\u001b[1;32m      4\u001b[0m \u001b[0;34m\u001b[0m\u001b[0m\n\u001b[1;32m      5\u001b[0m model_sent_2018 = tf.keras.Sequential([\n\u001b[0;32m----> 6\u001b[0;31m     \u001b[0mtf\u001b[0m\u001b[0;34m.\u001b[0m\u001b[0mkeras\u001b[0m\u001b[0;34m.\u001b[0m\u001b[0mInput\u001b[0m\u001b[0;34m(\u001b[0m\u001b[0mshape\u001b[0m\u001b[0;34m=\u001b[0m\u001b[0;34m(\u001b[0m\u001b[0mX_train_normal_2018\u001b[0m\u001b[0;34m.\u001b[0m\u001b[0mshape\u001b[0m\u001b[0;34m[\u001b[0m\u001b[0;36m1\u001b[0m\u001b[0;34m]\u001b[0m\u001b[0;34m,\u001b[0m\u001b[0;34m)\u001b[0m\u001b[0;34m)\u001b[0m\u001b[0;34m,\u001b[0m  \u001b[0;31m# Adjust input shape\u001b[0m\u001b[0;34m\u001b[0m\u001b[0;34m\u001b[0m\u001b[0m\n\u001b[0m\u001b[1;32m      7\u001b[0m     \u001b[0mtf\u001b[0m\u001b[0;34m.\u001b[0m\u001b[0mkeras\u001b[0m\u001b[0;34m.\u001b[0m\u001b[0mlayers\u001b[0m\u001b[0;34m.\u001b[0m\u001b[0mDense\u001b[0m\u001b[0;34m(\u001b[0m\u001b[0;36m100\u001b[0m\u001b[0;34m,\u001b[0m \u001b[0mactivation\u001b[0m\u001b[0;34m=\u001b[0m\u001b[0;34m\"relu\"\u001b[0m\u001b[0;34m)\u001b[0m\u001b[0;34m,\u001b[0m\u001b[0;34m\u001b[0m\u001b[0;34m\u001b[0m\u001b[0m\n\u001b[1;32m      8\u001b[0m     \u001b[0mtf\u001b[0m\u001b[0;34m.\u001b[0m\u001b[0mkeras\u001b[0m\u001b[0;34m.\u001b[0m\u001b[0mlayers\u001b[0m\u001b[0;34m.\u001b[0m\u001b[0mDense\u001b[0m\u001b[0;34m(\u001b[0m\u001b[0;36m50\u001b[0m\u001b[0;34m,\u001b[0m \u001b[0mactivation\u001b[0m\u001b[0;34m=\u001b[0m\u001b[0;34m\"relu\"\u001b[0m\u001b[0;34m)\u001b[0m\u001b[0;34m,\u001b[0m\u001b[0;34m\u001b[0m\u001b[0;34m\u001b[0m\u001b[0m\n",
            "\u001b[0;31mNameError\u001b[0m: name 'X_train_normal_2018' is not defined"
          ]
        }
      ]
    },
    {
      "cell_type": "code",
      "source": [
        "model_sent_2018.fit(X_train_normal_2018, y_2018_train, epochs=1000, callbacks = [callback],verbose=0)"
      ],
      "metadata": {
        "colab": {
          "base_uri": "https://localhost:8080/"
        },
        "id": "uiNxsXZgxpE4",
        "outputId": "f616c443-81bf-4290-d6f3-09141fed104d"
      },
      "execution_count": null,
      "outputs": [
        {
          "output_type": "execute_result",
          "data": {
            "text/plain": [
              "<keras.src.callbacks.History at 0x7c40c0755c60>"
            ]
          },
          "metadata": {},
          "execution_count": 183
        }
      ]
    },
    {
      "cell_type": "code",
      "source": [
        "model_sent_2018.evaluate(X_test_normal_2018, y_2018_test)"
      ],
      "metadata": {
        "colab": {
          "base_uri": "https://localhost:8080/"
        },
        "id": "hNBliL88xpCF",
        "outputId": "f6d99271-b3f6-4fbc-ed4c-8e7243f24545"
      },
      "execution_count": null,
      "outputs": [
        {
          "output_type": "stream",
          "name": "stdout",
          "text": [
            "1/1 [==============================] - 0s 108ms/step - loss: 213.9142 - mae: 213.9142\n"
          ]
        },
        {
          "output_type": "execute_result",
          "data": {
            "text/plain": [
              "[213.91424560546875, 213.91424560546875]"
            ]
          },
          "metadata": {},
          "execution_count": 184
        }
      ]
    },
    {
      "cell_type": "markdown",
      "source": [
        "## 2019"
      ],
      "metadata": {
        "id": "t4CjGHxlFsAR"
      }
    },
    {
      "cell_type": "code",
      "source": [
        "X_2019 = test_2019[:].drop([\"close_price\", \"Week\",'Positive', 'Negative', 'Neutral'], axis = 1)\n",
        "y_2019 = test_2019[\"close_price\"]"
      ],
      "metadata": {
        "id": "QTwjAguZ1NxG"
      },
      "execution_count": null,
      "outputs": []
    },
    {
      "cell_type": "code",
      "source": [
        "# Creating the training and Testing Data set\n",
        "X_2019_train , X_2019_test, y_2019_train, y_2019_test = train_test_split(X_2019 , y_2019 , test_size = 0.2, shuffle = False)"
      ],
      "metadata": {
        "id": "vXPPtoqM1NxL"
      },
      "execution_count": null,
      "outputs": []
    },
    {
      "cell_type": "code",
      "source": [
        "ct.fit(X_2019_train)\n",
        "\n",
        "# transform the training and test data with normalization and onehotencoder\n",
        "X_train_normal_2019 = ct.transform(X_2019_train)\n",
        "X_test_normal_2019 = ct.transform(X_2019_test)"
      ],
      "metadata": {
        "id": "RjTAiiUr1NxL"
      },
      "execution_count": null,
      "outputs": []
    },
    {
      "cell_type": "code",
      "source": [
        "tf.random.set_seed(42)\n",
        "\n",
        "callback =tf.keras.callbacks.ModelCheckpoint(filepath = '/tmp/checkpoint', monitor = \"mae\", save_best_only = True)\n",
        "\n",
        "model_sent_2019 = tf.keras.Sequential([\n",
        "    tf.keras.Input(shape=(X_train_normal_2019.shape[1],)),  # Adjust input shape\n",
        "    tf.keras.layers.Dense(100, activation=\"relu\"),\n",
        "    tf.keras.layers.Dense(50, activation=\"relu\"),\n",
        "    tf.keras.layers.Dense(10, activation=\"relu\"),\n",
        "    tf.keras.layers.Dense(1)\n",
        "])\n",
        "\n",
        "model_sent_2019.compile(\n",
        "    loss=\"mae\",\n",
        "    optimizer=tf.keras.optimizers.Adam(learning_rate=0.001),\n",
        "    metrics=[\"mae\"]\n",
        ")"
      ],
      "metadata": {
        "id": "T8batauN1NxL"
      },
      "execution_count": null,
      "outputs": []
    },
    {
      "cell_type": "code",
      "source": [
        "model_sent_2019.fit(X_train_normal_2019, y_2019_train, epochs=1000, callbacks = [callback],verbose=0)"
      ],
      "metadata": {
        "colab": {
          "base_uri": "https://localhost:8080/"
        },
        "outputId": "155e8bd1-39ba-4230-af6a-560e76c3b6c1",
        "id": "BkloiWAa1NxM"
      },
      "execution_count": null,
      "outputs": [
        {
          "output_type": "execute_result",
          "data": {
            "text/plain": [
              "<keras.src.callbacks.History at 0x7c407973f8b0>"
            ]
          },
          "metadata": {},
          "execution_count": 189
        }
      ]
    },
    {
      "cell_type": "code",
      "source": [
        "model_sent_2019.evaluate(X_test_normal_2019, y_2019_test)"
      ],
      "metadata": {
        "colab": {
          "base_uri": "https://localhost:8080/"
        },
        "outputId": "cf168ceb-f75c-4993-b3ce-3eece2518d4e",
        "id": "jqWWdLvQ1NxM"
      },
      "execution_count": null,
      "outputs": [
        {
          "output_type": "stream",
          "name": "stdout",
          "text": [
            "1/1 [==============================] - 0s 34ms/step - loss: 52.1263 - mae: 52.1263\n"
          ]
        },
        {
          "output_type": "execute_result",
          "data": {
            "text/plain": [
              "[52.12625503540039, 52.12625503540039]"
            ]
          },
          "metadata": {},
          "execution_count": 192
        }
      ]
    },
    {
      "cell_type": "markdown",
      "source": [
        "## 2020"
      ],
      "metadata": {
        "id": "Q86q0UI1Fvzs"
      }
    },
    {
      "cell_type": "code",
      "source": [
        "X_2020 = test_2020[:].drop([\"close_price\", \"Week\",'Positive', 'Negative', 'Neutral'], axis = 1)\n",
        "y_2020 = test_2020[\"close_price\"]"
      ],
      "metadata": {
        "id": "wXD43JoS3jVv"
      },
      "execution_count": null,
      "outputs": []
    },
    {
      "cell_type": "code",
      "source": [
        "# Creating the training and Testing Data set\n",
        "X_2020_train , X_2020_test, y_2020_train, y_2020_test = train_test_split(X_2020 , y_2020 , test_size = 0.2, shuffle = False)"
      ],
      "metadata": {
        "id": "w1OtAHw53jV5"
      },
      "execution_count": null,
      "outputs": []
    },
    {
      "cell_type": "code",
      "source": [
        "ct.fit(X_2020_train)\n",
        "\n",
        "# transform the training and test data with normalization and onehotencoder\n",
        "X_train_normal_2020 = ct.transform(X_2020_train)\n",
        "X_test_normal_2020 = ct.transform(X_2020_test)"
      ],
      "metadata": {
        "id": "DgvCSZnj3jV5"
      },
      "execution_count": null,
      "outputs": []
    },
    {
      "cell_type": "code",
      "source": [
        "tf.random.set_seed(42)\n",
        "\n",
        "callback =tf.keras.callbacks.ModelCheckpoint(filepath = '/tmp/checkpoint', monitor = \"mae\", save_best_only = True)\n",
        "\n",
        "model_sent_2020 = tf.keras.Sequential([\n",
        "    tf.keras.Input(shape=(X_train_normal_2020.shape[1],)),  # Adjust input shape\n",
        "    tf.keras.layers.Dense(100, activation=\"relu\"),\n",
        "    tf.keras.layers.Dense(50, activation=\"relu\"),\n",
        "    tf.keras.layers.Dense(10, activation=\"relu\"),\n",
        "    tf.keras.layers.Dense(1)\n",
        "])\n",
        "\n",
        "model_sent_2020.compile(\n",
        "    loss=\"mae\",\n",
        "    optimizer=tf.keras.optimizers.Adam(learning_rate=0.001),\n",
        "    metrics=[\"mae\"]\n",
        ")"
      ],
      "metadata": {
        "id": "3m5iHto-3jV6"
      },
      "execution_count": null,
      "outputs": []
    },
    {
      "cell_type": "code",
      "source": [
        "model_sent_2020.fit(X_train_normal_2020, y_2020_train, epochs=1000, callbacks = [callback],verbose=0)"
      ],
      "metadata": {
        "colab": {
          "base_uri": "https://localhost:8080/"
        },
        "outputId": "44bb10d4-4af3-4018-a940-1e0ec9e6d0e8",
        "id": "2tlIsody3jV6"
      },
      "execution_count": null,
      "outputs": [
        {
          "output_type": "execute_result",
          "data": {
            "text/plain": [
              "<keras.src.callbacks.History at 0x7c4018826b90>"
            ]
          },
          "metadata": {},
          "execution_count": 225
        }
      ]
    },
    {
      "cell_type": "code",
      "source": [
        "model_sent_2020.evaluate(X_test_normal_2020, y_2020_test)"
      ],
      "metadata": {
        "colab": {
          "base_uri": "https://localhost:8080/"
        },
        "outputId": "e07bdc0e-ba13-4e02-8c3f-8def303c686f",
        "id": "7dTfOzO33jV6"
      },
      "execution_count": null,
      "outputs": [
        {
          "output_type": "stream",
          "name": "stdout",
          "text": [
            "1/1 [==============================] - 0s 128ms/step - loss: 194.4878 - mae: 194.4878\n"
          ]
        },
        {
          "output_type": "execute_result",
          "data": {
            "text/plain": [
              "[194.48779296875, 194.48779296875]"
            ]
          },
          "metadata": {},
          "execution_count": 226
        }
      ]
    },
    {
      "cell_type": "markdown",
      "source": [
        "## 2021"
      ],
      "metadata": {
        "id": "QtQ3cb0nFyod"
      }
    },
    {
      "cell_type": "code",
      "source": [
        "X_2021 = test_2021[:].drop([\"close_price\", \"Week\",'Positive', 'Negative', 'Neutral'], axis = 1)\n",
        "y_2021 = test_2021[\"close_price\"]"
      ],
      "metadata": {
        "id": "7b3Adj1L68e6"
      },
      "execution_count": null,
      "outputs": []
    },
    {
      "cell_type": "code",
      "source": [
        "# Creating the training and Testing Data set\n",
        "X_2021_train , X_2021_test, y_2021_train, y_2021_test = train_test_split(X_2021 , y_2021 , test_size = 0.2, shuffle = False)"
      ],
      "metadata": {
        "id": "5RVgsHon68e7"
      },
      "execution_count": null,
      "outputs": []
    },
    {
      "cell_type": "code",
      "source": [
        "ct.fit(X_2021_train)\n",
        "\n",
        "# transform the training and test data with normalization and onehotencoder\n",
        "X_train_normal_2021 = ct.transform(X_2021_train)\n",
        "X_test_normal_2021 = ct.transform(X_2021_test)"
      ],
      "metadata": {
        "id": "NcBluJr868e7"
      },
      "execution_count": null,
      "outputs": []
    },
    {
      "cell_type": "code",
      "source": [
        "tf.random.set_seed(42)\n",
        "\n",
        "callback =tf.keras.callbacks.ModelCheckpoint(filepath = '/tmp/checkpoint', monitor = \"mae\", save_best_only = True)\n",
        "\n",
        "model_sent_2021 = tf.keras.Sequential([\n",
        "    tf.keras.Input(shape=(X_train_normal_2021.shape[1],)),  # Adjust input shape\n",
        "    tf.keras.layers.Dense(100, activation=\"relu\"),\n",
        "    tf.keras.layers.Dense(50, activation=\"relu\"),\n",
        "    tf.keras.layers.Dense(10, activation=\"relu\"),\n",
        "    tf.keras.layers.Dense(1)\n",
        "])\n",
        "\n",
        "model_sent_2021.compile(\n",
        "    loss=\"mae\",\n",
        "    optimizer=tf.keras.optimizers.Adam(learning_rate=0.001),\n",
        "    metrics=[\"mae\"]\n",
        ")"
      ],
      "metadata": {
        "id": "td7i76Ye68e7"
      },
      "execution_count": null,
      "outputs": []
    },
    {
      "cell_type": "code",
      "source": [
        "model_sent_2021.fit(X_train_normal_2021, y_2021_train, epochs=1000, callbacks = [callback],verbose=0)"
      ],
      "metadata": {
        "colab": {
          "base_uri": "https://localhost:8080/"
        },
        "outputId": "8653f1d7-ca06-40d1-a6ae-84c0aaddf1d1",
        "id": "P-y-8jNg68e7"
      },
      "execution_count": null,
      "outputs": [
        {
          "output_type": "execute_result",
          "data": {
            "text/plain": [
              "<keras.src.callbacks.History at 0x7c402e0b19c0>"
            ]
          },
          "metadata": {},
          "execution_count": 212
        }
      ]
    },
    {
      "cell_type": "code",
      "source": [
        "model_sent_2021.evaluate(X_test_normal_2021, y_2021_test)"
      ],
      "metadata": {
        "colab": {
          "base_uri": "https://localhost:8080/"
        },
        "outputId": "35e2de88-72bb-413c-d892-e83865d96c26",
        "id": "jQxdUgzC68e7"
      },
      "execution_count": null,
      "outputs": [
        {
          "output_type": "stream",
          "name": "stdout",
          "text": [
            "2/2 [==============================] - 0s 7ms/step - loss: 257.7063 - mae: 257.7063\n"
          ]
        },
        {
          "output_type": "execute_result",
          "data": {
            "text/plain": [
              "[257.706298828125, 257.706298828125]"
            ]
          },
          "metadata": {},
          "execution_count": 213
        }
      ]
    },
    {
      "cell_type": "markdown",
      "source": [
        "## 2022"
      ],
      "metadata": {
        "id": "inOg77CdF10T"
      }
    },
    {
      "cell_type": "code",
      "source": [
        "#2022"
      ],
      "metadata": {
        "id": "SCkZ2UW7-Laa"
      },
      "execution_count": null,
      "outputs": []
    },
    {
      "cell_type": "code",
      "source": [
        "X_2022 = test_2022[:].drop([\"close_price\", \"Week\",'Positive', 'Negative', 'Neutral'], axis = 1)\n",
        "y_2022 = test_2022[\"close_price\"]"
      ],
      "metadata": {
        "id": "89F9aId__U2g"
      },
      "execution_count": null,
      "outputs": []
    },
    {
      "cell_type": "code",
      "source": [
        "# Creating the training and Testing Data set\n",
        "X_2022_train , X_2022_test, y_2022_train, y_2022_test = train_test_split(X_2022 , y_2022 , test_size = 0.2, shuffle = False)"
      ],
      "metadata": {
        "id": "BU-CfoKH_U2g"
      },
      "execution_count": null,
      "outputs": []
    },
    {
      "cell_type": "code",
      "source": [
        "ct.fit(X_2022_train)\n",
        "\n",
        "# transform the training and test data with normalization and onehotencoder\n",
        "X_train_normal_2022 = ct.transform(X_2022_train)\n",
        "X_test_normal_2022 = ct.transform(X_2022_test)"
      ],
      "metadata": {
        "id": "PbTjeAT5_U2g"
      },
      "execution_count": null,
      "outputs": []
    },
    {
      "cell_type": "code",
      "source": [
        "tf.random.set_seed(42)\n",
        "\n",
        "callback =tf.keras.callbacks.ModelCheckpoint(filepath = '/tmp/checkpoint', monitor = \"mae\", save_best_only = True)\n",
        "\n",
        "model_sent_2022 = tf.keras.Sequential([\n",
        "    tf.keras.Input(shape=(X_train_normal_2022.shape[1],)),  # Adjust input shape\n",
        "    tf.keras.layers.Dense(100, activation=\"relu\"),\n",
        "    tf.keras.layers.Dense(50, activation=\"relu\"),\n",
        "    tf.keras.layers.Dense(10, activation=\"relu\"),\n",
        "    tf.keras.layers.Dense(1)\n",
        "])\n",
        "\n",
        "model_sent_2022.compile(\n",
        "    loss=\"mae\",\n",
        "    optimizer=tf.keras.optimizers.Adam(learning_rate=0.001),\n",
        "    metrics=[\"mae\"]\n",
        ")"
      ],
      "metadata": {
        "id": "BBCXkjZ1_U2h"
      },
      "execution_count": null,
      "outputs": []
    },
    {
      "cell_type": "code",
      "source": [
        "model_sent_2022.fit(X_train_normal_2022, y_2022_train, epochs=1000, callbacks = [callback],verbose=0)"
      ],
      "metadata": {
        "colab": {
          "base_uri": "https://localhost:8080/"
        },
        "outputId": "83259bf4-4cce-4ecf-99d6-4e44fc7ac89a",
        "id": "hlFnp6mR_U2h"
      },
      "execution_count": null,
      "outputs": [
        {
          "output_type": "execute_result",
          "data": {
            "text/plain": [
              "<keras.src.callbacks.History at 0x7c400ebc4040>"
            ]
          },
          "metadata": {},
          "execution_count": 218
        }
      ]
    },
    {
      "cell_type": "code",
      "source": [
        "model_sent_2022.evaluate(X_test_normal_2022, y_2022_test)"
      ],
      "metadata": {
        "colab": {
          "base_uri": "https://localhost:8080/"
        },
        "outputId": "5aff2cf8-0831-4c34-a7dc-0d75e20692ac",
        "id": "kDsIPhpt_U2h"
      },
      "execution_count": null,
      "outputs": [
        {
          "output_type": "stream",
          "name": "stdout",
          "text": [
            "2/2 [==============================] - 0s 8ms/step - loss: 286.7882 - mae: 286.7882\n"
          ]
        },
        {
          "output_type": "execute_result",
          "data": {
            "text/plain": [
              "[286.7881774902344, 286.7881774902344]"
            ]
          },
          "metadata": {},
          "execution_count": 219
        }
      ]
    },
    {
      "cell_type": "markdown",
      "source": [
        "## 2023"
      ],
      "metadata": {
        "id": "5bXiStJBF4Ru"
      }
    },
    {
      "cell_type": "code",
      "execution_count": null,
      "metadata": {
        "id": "lmFvDpO-NmKy"
      },
      "outputs": [],
      "source": [
        "X = test[:].drop([\"close_price\", \"Week\",'Positive', 'Negative', 'Neutral','hist_f', 'sent_f'], axis = 1)\n",
        "y = test[\"close_price\"]\n"
      ]
    },
    {
      "cell_type": "code",
      "execution_count": null,
      "metadata": {
        "id": "2QAttfVFF0bn"
      },
      "outputs": [],
      "source": [
        "# Creating the training and Testing Data set\n",
        "X_train , X_test, y_train, y_test = train_test_split(X , y , test_size = 0.2, shuffle = False)"
      ]
    },
    {
      "cell_type": "code",
      "execution_count": null,
      "metadata": {
        "colab": {
          "base_uri": "https://localhost:8080/"
        },
        "id": "r34HtP1ilJ_a",
        "outputId": "cbc7da50-8f19-4ca4-fa1d-54a41fa74e6d"
      },
      "outputs": [
        {
          "output_type": "execute_result",
          "data": {
            "text/plain": [
              "(249, 6)"
            ]
          },
          "metadata": {},
          "execution_count": 77
        }
      ],
      "source": [
        "X_train.shape\n"
      ]
    },
    {
      "cell_type": "code",
      "execution_count": null,
      "metadata": {
        "id": "PUmeUpoQfkK1"
      },
      "outputs": [],
      "source": [
        "ct.fit(X_train)\n",
        "\n",
        "# transform the training and test data with normalization and onehotencoder\n",
        "X_train_normal = ct.transform(X_train)\n",
        "X_test_normal = ct.transform(X_test)"
      ]
    },
    {
      "cell_type": "code",
      "execution_count": null,
      "metadata": {
        "id": "uccVsBJfG7Ao"
      },
      "outputs": [],
      "source": [
        "tf.random.set_seed(42)\n",
        "\n",
        "callback =tf.keras.callbacks.ModelCheckpoint(filepath = '/tmp/checkpoint', monitor = \"mape\", save_best_only = True)\n",
        "\n",
        "model_sent = tf.keras.Sequential([\n",
        "    tf.keras.Input(shape=(X_train.shape[1],)),  # Adjust input shape\n",
        "    tf.keras.layers.Dense(100, activation=\"relu\"),\n",
        "    tf.keras.layers.Dense(50, activation=\"relu\"),\n",
        "    tf.keras.layers.Dense(10, activation=\"relu\"),\n",
        "    tf.keras.layers.Dense(1)\n",
        "])\n",
        "\n",
        "model_sent.compile(\n",
        "    loss=\"mape\",\n",
        "    optimizer=tf.keras.optimizers.Adam(learning_rate=0.001),\n",
        "    metrics=[\"mape\",\"mae\"]\n",
        ")"
      ]
    },
    {
      "cell_type": "code",
      "execution_count": null,
      "metadata": {
        "colab": {
          "base_uri": "https://localhost:8080/"
        },
        "id": "fvz0zPRel2qH",
        "outputId": "6bf13b2a-8028-4f4d-eaaf-f50e9298b266"
      },
      "outputs": [
        {
          "output_type": "execute_result",
          "data": {
            "text/plain": [
              "<keras.src.callbacks.History at 0x7b0bae6a47c0>"
            ]
          },
          "metadata": {},
          "execution_count": 80
        }
      ],
      "source": [
        "model_sent.fit(X_train, y_train, epochs=1000, callbacks = [callback],verbose=0)"
      ]
    },
    {
      "cell_type": "code",
      "execution_count": null,
      "metadata": {
        "colab": {
          "base_uri": "https://localhost:8080/"
        },
        "id": "xNvJloqVHm_s",
        "outputId": "01e743e3-db21-497a-b546-55c31b34b833"
      },
      "outputs": [
        {
          "output_type": "stream",
          "name": "stdout",
          "text": [
            "2/2 [==============================] - 0s 8ms/step - loss: nan - mape: nan - mae: nan\n"
          ]
        },
        {
          "output_type": "execute_result",
          "data": {
            "text/plain": [
              "[nan, nan, nan]"
            ]
          },
          "metadata": {},
          "execution_count": 81
        }
      ],
      "source": [
        "model_sent.evaluate(X_test, y_test)"
      ]
    },
    {
      "cell_type": "code",
      "execution_count": null,
      "metadata": {
        "colab": {
          "base_uri": "https://localhost:8080/"
        },
        "id": "fYpN31sKUYjo",
        "outputId": "0476252a-e421-459a-b4ab-9c962ca9b6b0"
      },
      "outputs": [
        {
          "output_type": "stream",
          "name": "stdout",
          "text": [
            "2/2 [==============================] - 0s 4ms/step\n"
          ]
        }
      ],
      "source": [
        "y_pred = model_sent.predict(X_test)\n",
        "y_pred_sent = pd.DataFrame(y_pred)"
      ]
    },
    {
      "cell_type": "code",
      "source": [
        "mean_absolute_percentage_error(y_test,y_pred)"
      ],
      "metadata": {
        "colab": {
          "base_uri": "https://localhost:8080/"
        },
        "id": "5NvaNboH-xhv",
        "outputId": "5a1bf92e-2b3f-4dc6-ead8-4e934b02d363"
      },
      "execution_count": null,
      "outputs": [
        {
          "output_type": "execute_result",
          "data": {
            "text/plain": [
              "6.256820123262977"
            ]
          },
          "metadata": {},
          "execution_count": 67
        }
      ]
    },
    {
      "cell_type": "code",
      "execution_count": null,
      "metadata": {
        "id": "WX416SyKnWY2"
      },
      "outputs": [],
      "source": [
        "import matplotlib.pyplot as plt"
      ]
    },
    {
      "cell_type": "code",
      "execution_count": null,
      "metadata": {
        "colab": {
          "base_uri": "https://localhost:8080/",
          "height": 430
        },
        "id": "Lww_caJonOrE",
        "outputId": "6a4878b4-eaba-43f9-870c-04c4ba17c506"
      },
      "outputs": [
        {
          "output_type": "display_data",
          "data": {
            "text/plain": [
              "<Figure size 640x480 with 1 Axes>"
            ],
            "image/png": "[encoded data removed]"
          },
          "metadata": {}
        }
      ],
      "source": [
        "plt.plot(range(len(y_pred)), y_pred, label='y_pred')\n",
        "plt.plot(range(len(y_test)), y_test, label='Y_test')\n",
        "plt.legend()\n",
        "plt.show()"
      ]
    },
    {
      "cell_type": "code",
      "source": [
        "result = {\n",
        "    \"Year\": [2018,2019,2020,2021,2022,2023],\n",
        "    \"Historical\":[219.0359 , 54.3141,181.4984,255.2456,301.8100,211.4466],\n",
        "    \"sentiment\":[213.9142,52.1263,194.4878,257.7063,286.7882,212.2947]\n",
        "}\n",
        "results = pd.DataFrame(result)\n",
        "results"
      ],
      "metadata": {
        "colab": {
          "base_uri": "https://localhost:8080/",
          "height": 238
        },
        "id": "O-92bee2AjUo",
        "outputId": "0641bfff-fd97-4423-89c5-9fe828d0a072"
      },
      "execution_count": null,
      "outputs": [
        {
          "output_type": "execute_result",
          "data": {
            "text/plain": [
              "   Year  Historical  sentiment\n",
              "0  2018    219.0359   213.9142\n",
              "1  2019     54.3141    52.1263\n",
              "2  2020    181.4984   194.4878\n",
              "3  2021    255.2456   257.7063\n",
              "4  2022    301.8100   286.7882\n",
              "5  2023    211.4466   212.2947"
            ],
            "text/html": [
              "\n",
              "  <div id=\"df-d034f45e-44fd-401d-8c7c-ad1679077696\" class=\"colab-df-container\">\n",
              "    <div>\n",
              "<style scoped>\n",
              "    .dataframe tbody tr th:only-of-type {\n",
              "        vertical-align: middle;\n",
              "    }\n",
              "\n",
              "    .dataframe tbody tr th {\n",
              "        vertical-align: top;\n",
              "    }\n",
              "\n",
              "    .dataframe thead th {\n",
              "        text-align: right;\n",
              "    }\n",
              "</style>\n",
              "<table border=\"1\" class=\"dataframe\">\n",
              "  <thead>\n",
              "    <tr style=\"text-align: right;\">\n",
              "      <th></th>\n",
              "      <th>Year</th>\n",
              "      <th>Historical</th>\n",
              "      <th>sentiment</th>\n",
              "    </tr>\n",
              "  </thead>\n",
              "  <tbody>\n",
              "    <tr>\n",
              "      <th>0</th>\n",
              "      <td>2018</td>\n",
              "      <td>219.0359</td>\n",
              "      <td>213.9142</td>\n",
              "    </tr>\n",
              "    <tr>\n",
              "      <th>1</th>\n",
              "      <td>2019</td>\n",
              "      <td>54.3141</td>\n",
              "      <td>52.1263</td>\n",
              "    </tr>\n",
              "    <tr>\n",
              "      <th>2</th>\n",
              "      <td>2020</td>\n",
              "      <td>181.4984</td>\n",
              "      <td>194.4878</td>\n",
              "    </tr>\n",
              "    <tr>\n",
              "      <th>3</th>\n",
              "      <td>2021</td>\n",
              "      <td>255.2456</td>\n",
              "      <td>257.7063</td>\n",
              "    </tr>\n",
              "    <tr>\n",
              "      <th>4</th>\n",
              "      <td>2022</td>\n",
              "      <td>301.8100</td>\n",
              "      <td>286.7882</td>\n",
              "    </tr>\n",
              "    <tr>\n",
              "      <th>5</th>\n",
              "      <td>2023</td>\n",
              "      <td>211.4466</td>\n",
              "      <td>212.2947</td>\n",
              "    </tr>\n",
              "  </tbody>\n",
              "</table>\n",
              "</div>\n",
              "    <div class=\"colab-df-buttons\">\n",
              "\n",
              "  <div class=\"colab-df-container\">\n",
              "    <button class=\"colab-df-convert\" onclick=\"convertToInteractive('df-d034f45e-44fd-401d-8c7c-ad1679077696')\"\n",
              "            title=\"Convert this dataframe to an interactive table.\"\n",
              "            style=\"display:none;\">\n",
              "\n",
              "  <svg xmlns=\"http://www.w3.org/2000/svg\" height=\"24px\" viewBox=\"0 -960 960 960\">\n",
              "    <path d=\"M120-120v-720h720v720H120Zm60-500h600v-160H180v160Zm220 220h160v-160H400v160Zm0 220h160v-160H400v160ZM180-400h160v-160H180v160Zm440 0h160v-160H620v160ZM180-180h160v-160H180v160Zm440 0h160v-160H620v160Z\"/>\n",
              "  </svg>\n",
              "    </button>\n",
              "\n",
              "  <style>\n",
              "    .colab-df-container {\n",
              "      display:flex;\n",
              "      gap: 12px;\n",
              "    }\n",
              "\n",
              "    .colab-df-convert {\n",
              "      background-color: #E8F0FE;\n",
              "      border: none;\n",
              "      border-radius: 50%;\n",
              "      cursor: pointer;\n",
              "      display: none;\n",
              "      fill: #1967D2;\n",
              "      height: 32px;\n",
              "      padding: 0 0 0 0;\n",
              "      width: 32px;\n",
              "    }\n",
              "\n",
              "    .colab-df-convert:hover {\n",
              "      background-color: #E2EBFA;\n",
              "      box-shadow: 0px 1px 2px rgba(60, 64, 67, 0.3), 0px 1px 3px 1px rgba(60, 64, 67, 0.15);\n",
              "      fill: #174EA6;\n",
              "    }\n",
              "\n",
              "    .colab-df-buttons div {\n",
              "      margin-bottom: 4px;\n",
              "    }\n",
              "\n",
              "    [theme=dark] .colab-df-convert {\n",
              "      background-color: #3B4455;\n",
              "      fill: #D2E3FC;\n",
              "    }\n",
              "\n",
              "    [theme=dark] .colab-df-convert:hover {\n",
              "      background-color: #434B5C;\n",
              "      box-shadow: 0px 1px 3px 1px rgba(0, 0, 0, 0.15);\n",
              "      filter: drop-shadow(0px 1px 2px rgba(0, 0, 0, 0.3));\n",
              "      fill: #FFFFFF;\n",
              "    }\n",
              "  </style>\n",
              "\n",
              "    <script>\n",
              "      const buttonEl =\n",
              "        document.querySelector('#df-d034f45e-44fd-401d-8c7c-ad1679077696 button.colab-df-convert');\n",
              "      buttonEl.style.display =\n",
              "        google.colab.kernel.accessAllowed ? 'block' : 'none';\n",
              "\n",
              "      async function convertToInteractive(key) {\n",
              "        const element = document.querySelector('#df-d034f45e-44fd-401d-8c7c-ad1679077696');\n",
              "        const dataTable =\n",
              "          await google.colab.kernel.invokeFunction('convertToInteractive',\n",
              "                                                    [key], {});\n",
              "        if (!dataTable) return;\n",
              "\n",
              "        const docLinkHtml = 'Like what you see? Visit the ' +\n",
              "          '<a target=\"_blank\" href=https://colab.research.google.com/notebooks/data_table.ipynb>data table notebook</a>'\n",
              "          + ' to learn more about interactive tables.';\n",
              "        element.innerHTML = '';\n",
              "        dataTable['output_type'] = 'display_data';\n",
              "        await google.colab.output.renderOutput(dataTable, element);\n",
              "        const docLink = document.createElement('div');\n",
              "        docLink.innerHTML = docLinkHtml;\n",
              "        element.appendChild(docLink);\n",
              "      }\n",
              "    </script>\n",
              "  </div>\n",
              "\n",
              "\n",
              "<div id=\"df-f87bf8bb-ef3d-4f7c-afec-cb94bc22d356\">\n",
              "  <button class=\"colab-df-quickchart\" onclick=\"quickchart('df-f87bf8bb-ef3d-4f7c-afec-cb94bc22d356')\"\n",
              "            title=\"Suggest charts\"\n",
              "            style=\"display:none;\">\n",
              "\n",
              "<svg xmlns=\"http://www.w3.org/2000/svg\" height=\"24px\"viewBox=\"0 0 24 24\"\n",
              "     width=\"24px\">\n",
              "    <g>\n",
              "        <path d=\"M19 3H5c-1.1 0-2 .9-2 2v14c0 1.1.9 2 2 2h14c1.1 0 2-.9 2-2V5c0-1.1-.9-2-2-2zM9 17H7v-7h2v7zm4 0h-2V7h2v10zm4 0h-2v-4h2v4z\"/>\n",
              "    </g>\n",
              "</svg>\n",
              "  </button>\n",
              "\n",
              "<style>\n",
              "  .colab-df-quickchart {\n",
              "      --bg-color: #E8F0FE;\n",
              "      --fill-color: #1967D2;\n",
              "      --hover-bg-color: #E2EBFA;\n",
              "      --hover-fill-color: #174EA6;\n",
              "      --disabled-fill-color: #AAA;\n",
              "      --disabled-bg-color: #DDD;\n",
              "  }\n",
              "\n",
              "  [theme=dark] .colab-df-quickchart {\n",
              "      --bg-color: #3B4455;\n",
              "      --fill-color: #D2E3FC;\n",
              "      --hover-bg-color: #434B5C;\n",
              "      --hover-fill-color: #FFFFFF;\n",
              "      --disabled-bg-color: #3B4455;\n",
              "      --disabled-fill-color: #666;\n",
              "  }\n",
              "\n",
              "  .colab-df-quickchart {\n",
              "    background-color: var(--bg-color);\n",
              "    border: none;\n",
              "    border-radius: 50%;\n",
              "    cursor: pointer;\n",
              "    display: none;\n",
              "    fill: var(--fill-color);\n",
              "    height: 32px;\n",
              "    padding: 0;\n",
              "    width: 32px;\n",
              "  }\n",
              "\n",
              "  .colab-df-quickchart:hover {\n",
              "    background-color: var(--hover-bg-color);\n",
              "    box-shadow: 0 1px 2px rgba(60, 64, 67, 0.3), 0 1px 3px 1px rgba(60, 64, 67, 0.15);\n",
              "    fill: var(--button-hover-fill-color);\n",
              "  }\n",
              "\n",
              "  .colab-df-quickchart-complete:disabled,\n",
              "  .colab-df-quickchart-complete:disabled:hover {\n",
              "    background-color: var(--disabled-bg-color);\n",
              "    fill: var(--disabled-fill-color);\n",
              "    box-shadow: none;\n",
              "  }\n",
              "\n",
              "  .colab-df-spinner {\n",
              "    border: 2px solid var(--fill-color);\n",
              "    border-color: transparent;\n",
              "    border-bottom-color: var(--fill-color);\n",
              "    animation:\n",
              "      spin 1s steps(1) infinite;\n",
              "  }\n",
              "\n",
              "  @keyframes spin {\n",
              "    0% {\n",
              "      border-color: transparent;\n",
              "      border-bottom-color: var(--fill-color);\n",
              "      border-left-color: var(--fill-color);\n",
              "    }\n",
              "    20% {\n",
              "      border-color: transparent;\n",
              "      border-left-color: var(--fill-color);\n",
              "      border-top-color: var(--fill-color);\n",
              "    }\n",
              "    30% {\n",
              "      border-color: transparent;\n",
              "      border-left-color: var(--fill-color);\n",
              "      border-top-color: var(--fill-color);\n",
              "      border-right-color: var(--fill-color);\n",
              "    }\n",
              "    40% {\n",
              "      border-color: transparent;\n",
              "      border-right-color: var(--fill-color);\n",
              "      border-top-color: var(--fill-color);\n",
              "    }\n",
              "    60% {\n",
              "      border-color: transparent;\n",
              "      border-right-color: var(--fill-color);\n",
              "    }\n",
              "    80% {\n",
              "      border-color: transparent;\n",
              "      border-right-color: var(--fill-color);\n",
              "      border-bottom-color: var(--fill-color);\n",
              "    }\n",
              "    90% {\n",
              "      border-color: transparent;\n",
              "      border-bottom-color: var(--fill-color);\n",
              "    }\n",
              "  }\n",
              "</style>\n",
              "\n",
              "  <script>\n",
              "    async function quickchart(key) {\n",
              "      const quickchartButtonEl =\n",
              "        document.querySelector('#' + key + ' button');\n",
              "      quickchartButtonEl.disabled = true;  // To prevent multiple clicks.\n",
              "      quickchartButtonEl.classList.add('colab-df-spinner');\n",
              "      try {\n",
              "        const charts = await google.colab.kernel.invokeFunction(\n",
              "            'suggestCharts', [key], {});\n",
              "      } catch (error) {\n",
              "        console.error('Error during call to suggestCharts:', error);\n",
              "      }\n",
              "      quickchartButtonEl.classList.remove('colab-df-spinner');\n",
              "      quickchartButtonEl.classList.add('colab-df-quickchart-complete');\n",
              "    }\n",
              "    (() => {\n",
              "      let quickchartButtonEl =\n",
              "        document.querySelector('#df-f87bf8bb-ef3d-4f7c-afec-cb94bc22d356 button');\n",
              "      quickchartButtonEl.style.display =\n",
              "        google.colab.kernel.accessAllowed ? 'block' : 'none';\n",
              "    })();\n",
              "  </script>\n",
              "</div>\n",
              "\n",
              "  <div id=\"id_ec40200c-ff03-4a8b-b266-6d013c350e1c\">\n",
              "    <style>\n",
              "      .colab-df-generate {\n",
              "        background-color: #E8F0FE;\n",
              "        border: none;\n",
              "        border-radius: 50%;\n",
              "        cursor: pointer;\n",
              "        display: none;\n",
              "        fill: #1967D2;\n",
              "        height: 32px;\n",
              "        padding: 0 0 0 0;\n",
              "        width: 32px;\n",
              "      }\n",
              "\n",
              "      .colab-df-generate:hover {\n",
              "        background-color: #E2EBFA;\n",
              "        box-shadow: 0px 1px 2px rgba(60, 64, 67, 0.3), 0px 1px 3px 1px rgba(60, 64, 67, 0.15);\n",
              "        fill: #174EA6;\n",
              "      }\n",
              "\n",
              "      [theme=dark] .colab-df-generate {\n",
              "        background-color: #3B4455;\n",
              "        fill: #D2E3FC;\n",
              "      }\n",
              "\n",
              "      [theme=dark] .colab-df-generate:hover {\n",
              "        background-color: #434B5C;\n",
              "        box-shadow: 0px 1px 3px 1px rgba(0, 0, 0, 0.15);\n",
              "        filter: drop-shadow(0px 1px 2px rgba(0, 0, 0, 0.3));\n",
              "        fill: #FFFFFF;\n",
              "      }\n",
              "    </style>\n",
              "    <button class=\"colab-df-generate\" onclick=\"generateWithVariable('results')\"\n",
              "            title=\"Generate code using this dataframe.\"\n",
              "            style=\"display:none;\">\n",
              "\n",
              "  <svg xmlns=\"http://www.w3.org/2000/svg\" height=\"24px\"viewBox=\"0 0 24 24\"\n",
              "       width=\"24px\">\n",
              "    <path d=\"M7,19H8.4L18.45,9,17,7.55,7,17.6ZM5,21V16.75L18.45,3.32a2,2,0,0,1,2.83,0l1.4,1.43a1.91,1.91,0,0,1,.58,1.4,1.91,1.91,0,0,1-.58,1.4L9.25,21ZM18.45,9,17,7.55Zm-12,3A5.31,5.31,0,0,0,4.9,8.1,5.31,5.31,0,0,0,1,6.5,5.31,5.31,0,0,0,4.9,4.9,5.31,5.31,0,0,0,6.5,1,5.31,5.31,0,0,0,8.1,4.9,5.31,5.31,0,0,0,12,6.5,5.46,5.46,0,0,0,6.5,12Z\"/>\n",
              "  </svg>\n",
              "    </button>\n",
              "    <script>\n",
              "      (() => {\n",
              "      const buttonEl =\n",
              "        document.querySelector('#id_ec40200c-ff03-4a8b-b266-6d013c350e1c button.colab-df-generate');\n",
              "      buttonEl.style.display =\n",
              "        google.colab.kernel.accessAllowed ? 'block' : 'none';\n",
              "\n",
              "      buttonEl.onclick = () => {\n",
              "        google.colab.notebook.generateWithVariable('results');\n",
              "      }\n",
              "      })();\n",
              "    </script>\n",
              "  </div>\n",
              "\n",
              "    </div>\n",
              "  </div>\n"
            ],
            "application/vnd.google.colaboratory.intrinsic+json": {
              "type": "dataframe",
              "variable_name": "results",
              "summary": "{\n  \"name\": \"results\",\n  \"rows\": 6,\n  \"fields\": [\n    {\n      \"column\": \"Year\",\n      \"properties\": {\n        \"dtype\": \"number\",\n        \"std\": 1,\n        \"min\": 2018,\n        \"max\": 2023,\n        \"num_unique_values\": 6,\n        \"samples\": [\n          2018,\n          2019,\n          2023\n        ],\n        \"semantic_type\": \"\",\n        \"description\": \"\"\n      }\n    },\n    {\n      \"column\": \"Historical\",\n      \"properties\": {\n        \"dtype\": \"number\",\n        \"std\": 84.12675927952216,\n        \"min\": 54.3141,\n        \"max\": 301.81,\n        \"num_unique_values\": 6,\n        \"samples\": [\n          219.0359,\n          54.3141,\n          211.4466\n        ],\n        \"semantic_type\": \"\",\n        \"description\": \"\"\n      }\n    },\n    {\n      \"column\": \"sentiment\",\n      \"properties\": {\n        \"dtype\": \"number\",\n        \"std\": 81.30683390074293,\n        \"min\": 52.1263,\n        \"max\": 286.7882,\n        \"num_unique_values\": 6,\n        \"samples\": [\n          213.9142,\n          52.1263,\n          212.2947\n        ],\n        \"semantic_type\": \"\",\n        \"description\": \"\"\n      }\n    }\n  ]\n}"
            }
          },
          "metadata": {},
          "execution_count": 227
        }
      ]
    },
    {
      "cell_type": "markdown",
      "source": [],
      "metadata": {
        "id": "JVvL-UGAAyzy"
      }
    }
  ],
  "metadata": {
    "accelerator": "GPU",
    "colab": {
      "gpuType": "T4",
      "provenance": [],
      "collapsed_sections": [
        "T60eANv9FUgl",
        "pYR2IVfzFbWf",
        "_LNI-eTiFfec",
        "Fq--Fk9UFhn_",
        "xzkWmR7GFkP6",
        "NMiW6KufFo8X",
        "t4CjGHxlFsAR",
        "Q86q0UI1Fvzs",
        "QtQ3cb0nFyod",
        "inOg77CdF10T"
      ]
    },
    "kernelspec": {
      "display_name": "Python 3",
      "name": "python3"
    },
    "language_info": {
      "name": "python"
    }
  },
  "nbformat": 4,
  "nbformat_minor": 0
}